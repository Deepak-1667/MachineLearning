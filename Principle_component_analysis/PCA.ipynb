{
  "nbformat": 4,
  "nbformat_minor": 0,
  "metadata": {
    "colab": {
      "provenance": [],
      "authorship_tag": "ABX9TyOhFQQooCGz3s4KFnTCOdhC"
    },
    "kernelspec": {
      "name": "python3",
      "display_name": "Python 3"
    },
    "language_info": {
      "name": "python"
    }
  },
  "cells": [
    {
      "cell_type": "code",
      "execution_count": null,
      "metadata": {
        "id": "qfwN-s5zXKhf"
      },
      "outputs": [],
      "source": [
        "import numpy as np\n",
        "\n",
        "class PCA:\n",
        "\n",
        "    def __init__(self,n_components):\n",
        "\n",
        "        self.n_components=n_components\n",
        "\n",
        "    def fit(self,X):\n",
        "\n",
        "        self._mean = np.mean(X,axis=0)\n",
        "\n",
        "        self._center = X - self._mean\n",
        "\n",
        "        self._cov_var = np.cov(self._center.T)\n",
        "\n",
        "        self._eigenvalue,self._eigenvector = np.linalg.eig(self._cov_var)\n",
        "\n",
        "        self._eigenvector = self._eigenvector.T\n",
        "        #sort eigen values and eigen vectors\n",
        "\n",
        "        index = self._eigenvalue.argsort()[::-1]\n",
        "\n",
        "        self._eigenvalue = self._eigenvalue[index]\n",
        "        self._eigenvector = self._eigenvector[index]\n",
        "\n",
        "        #choose K vectors\n",
        "\n",
        "        self._component = self._eigenvector[:self.n_components]\n",
        "\n",
        "    def transform(self,X):\n",
        "\n",
        "        X = X - self._mean\n",
        "\n",
        "        return X.dot(self._component.T)\n"
      ]
    },
    {
      "cell_type": "code",
      "source": [
        "from sklearn.datasets import load_iris\n",
        "import matplotlib.pyplot as plt\n",
        "\n",
        "data = load_iris()\n",
        "X,y = data.data,data.target\n",
        "\n",
        "pca = PCA(2)\n",
        "pca.fit(X)\n",
        "projection = pca.transform(X)\n",
        "X.shape,projection.shape\n",
        "\n"
      ],
      "metadata": {
        "colab": {
          "base_uri": "https://localhost:8080/"
        },
        "id": "HBpPVVYpcLOZ",
        "outputId": "b475fd63-3229-46df-f4b8-b605029fdcc3"
      },
      "execution_count": null,
      "outputs": [
        {
          "output_type": "execute_result",
          "data": {
            "text/plain": [
              "((150, 4), (150, 2))"
            ]
          },
          "metadata": {},
          "execution_count": 24
        }
      ]
    }
  ]
}