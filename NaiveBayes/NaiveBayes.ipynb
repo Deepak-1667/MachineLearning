{
  "nbformat": 4,
  "nbformat_minor": 0,
  "metadata": {
    "colab": {
      "provenance": [],
      "authorship_tag": "ABX9TyN64bpEhjJ53A+OFB0dlPMU"
    },
    "kernelspec": {
      "name": "python3",
      "display_name": "Python 3"
    },
    "language_info": {
      "name": "python"
    }
  },
  "cells": [
    {
      "cell_type": "code",
      "execution_count": 41,
      "metadata": {
        "id": "z6k0v76ZRZiN"
      },
      "outputs": [],
      "source": [
        "import numpy as np\n",
        "from collections import Counter\n",
        "\n",
        "class NaiveBayes:\n",
        "\n",
        "  def fit(self,X,y):\n",
        "\n",
        "    self.classes = np.unique(y)\n",
        "    n_classes = len(self.classes)\n",
        "    n_samples,n_features = X.shape\n",
        "\n",
        "    self._mean = np.zeros((n_classes,n_features),dtype=np.float64)\n",
        "    self._var = np.zeros((n_classes,n_features),dtype=np.float64)\n",
        "    self._prior = np.zeros(n_classes,dtype=np.float64)\n",
        "\n",
        "    for index,val in enumerate(self.classes):\n",
        "\n",
        "      x_col = X[y==val]\n",
        "      self._mean[index,:] = x_col.mean(axis=0)\n",
        "      self._var[index,:] = x_col.var(axis=0)\n",
        "      self._prior[index] = x_col.shape[0]/float(n_samples)\n",
        "\n",
        "\n",
        "  def _conditional_prob(self,x):\n",
        "    posteriors = []\n",
        "\n",
        "\n",
        "    for index,val in enumerate(self.classes):\n",
        "      prior = np.log(self._prior[index])\n",
        "      posterior = np.sum(np.log(self._pdf(index,x)))\n",
        "      posterior = posterior+prior\n",
        "      posteriors.append(posterior)\n",
        "\n",
        "    return self.classes[np.argmax(posteriors)]\n",
        "\n",
        "  def _pdf(self,index,x):\n",
        "    mean = self._mean[index]\n",
        "    var = self._var[index]\n",
        "\n",
        "    num = np.exp(-((x-mean) ** 2)/ (2*var))\n",
        "    denom = np.sqrt(2*np.pi*var)\n",
        "    return num/denom\n",
        "\n",
        "\n",
        "\n",
        "  def predict(self,X):\n",
        "\n",
        "    y_pred = [self._conditional_prob(x) for x in X]\n",
        "    return np.array(y_pred)\n",
        "\n",
        "\n",
        "\n",
        "\n"
      ]
    },
    {
      "cell_type": "code",
      "source": [
        "from sklearn import datasets\n",
        "from sklearn.model_selection import train_test_split\n",
        "import numpy as np\n",
        "\n",
        "\n",
        "X, y = datasets.make_classification(\n",
        "    n_samples=1000,\n",
        "    n_features = 10,\n",
        "    n_classes = 2,\n",
        "    n_informative=2,\n",
        "    random_state=1234\n",
        ")\n",
        "X_train, X_test, y_train, y_test = train_test_split(\n",
        "    X, y, test_size=0.2, random_state=1234\n",
        ")\n",
        "\n",
        "clf = NaiveBayes()\n",
        "clf.fit(X_train, y_train)\n",
        "predictions = clf.predict(X_test)\n",
        "\n",
        "def accuracy(y_test, y_pred):\n",
        "    return np.sum(y_test == y_pred) / len(y_test)\n",
        "\n",
        "acc = accuracy(y_test, predictions)\n",
        "print(acc)"
      ],
      "metadata": {
        "colab": {
          "base_uri": "https://localhost:8080/"
        },
        "id": "0I1C0oPBTBbX",
        "outputId": "61cb7dbb-c15f-41c2-9256-de443f8397f5"
      },
      "execution_count": 52,
      "outputs": [
        {
          "output_type": "stream",
          "name": "stdout",
          "text": [
            "0.93\n"
          ]
        }
      ]
    }
  ]
}